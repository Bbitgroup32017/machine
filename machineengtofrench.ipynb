{
 "cells": [
  {
   "cell_type": "code",
   "execution_count": 31,
   "id": "10696f34",
   "metadata": {},
   "outputs": [
    {
     "name": "stdout",
     "output_type": "stream",
     "text": [
      "Requirement already satisfied: tensorflow-gpu==2.8.0 in c:\\users\\mk_reuben\\anaconda3\\lib\\site-packages (2.8.0)\n",
      "Requirement already satisfied: astunparse>=1.6.0 in c:\\users\\mk_reuben\\anaconda3\\lib\\site-packages (from tensorflow-gpu==2.8.0) (1.6.3)\n",
      "Requirement already satisfied: termcolor>=1.1.0 in c:\\users\\mk_reuben\\anaconda3\\lib\\site-packages (from tensorflow-gpu==2.8.0) (1.1.0)\n",
      "Requirement already satisfied: flatbuffers>=1.12 in c:\\users\\mk_reuben\\anaconda3\\lib\\site-packages (from tensorflow-gpu==2.8.0) (2.0)\n",
      "Requirement already satisfied: h5py>=2.9.0 in c:\\users\\mk_reuben\\anaconda3\\lib\\site-packages (from tensorflow-gpu==2.8.0) (3.2.1)\n",
      "Requirement already satisfied: six>=1.12.0 in c:\\users\\mk_reuben\\anaconda3\\lib\\site-packages (from tensorflow-gpu==2.8.0) (1.16.0)\n",
      "Requirement already satisfied: setuptools in c:\\users\\mk_reuben\\anaconda3\\lib\\site-packages (from tensorflow-gpu==2.8.0) (58.0.4)\n",
      "Requirement already satisfied: opt-einsum>=2.3.2 in c:\\users\\mk_reuben\\anaconda3\\lib\\site-packages (from tensorflow-gpu==2.8.0) (3.3.0)\n",
      "Requirement already satisfied: protobuf>=3.9.2 in c:\\users\\mk_reuben\\anaconda3\\lib\\site-packages (from tensorflow-gpu==2.8.0) (3.19.3)\n",
      "Requirement already satisfied: gast>=0.2.1 in c:\\users\\mk_reuben\\anaconda3\\lib\\site-packages (from tensorflow-gpu==2.8.0) (0.5.3)\n",
      "Requirement already satisfied: tensorboard<2.9,>=2.8 in c:\\users\\mk_reuben\\anaconda3\\lib\\site-packages (from tensorflow-gpu==2.8.0) (2.8.0)\n",
      "Requirement already satisfied: google-pasta>=0.1.1 in c:\\users\\mk_reuben\\anaconda3\\lib\\site-packages (from tensorflow-gpu==2.8.0) (0.2.0)\n",
      "Requirement already satisfied: numpy>=1.20 in c:\\users\\mk_reuben\\appdata\\roaming\\python\\python39\\site-packages (from tensorflow-gpu==2.8.0) (1.22.1)\n",
      "Requirement already satisfied: absl-py>=0.4.0 in c:\\users\\mk_reuben\\anaconda3\\lib\\site-packages (from tensorflow-gpu==2.8.0) (1.0.0)\n",
      "Requirement already satisfied: keras<2.9,>=2.8.0rc0 in c:\\users\\mk_reuben\\anaconda3\\lib\\site-packages (from tensorflow-gpu==2.8.0) (2.8.0)\n",
      "Requirement already satisfied: tensorflow-io-gcs-filesystem>=0.23.1 in c:\\users\\mk_reuben\\anaconda3\\lib\\site-packages (from tensorflow-gpu==2.8.0) (0.24.0)\n",
      "Requirement already satisfied: wrapt>=1.11.0 in c:\\users\\mk_reuben\\anaconda3\\lib\\site-packages (from tensorflow-gpu==2.8.0) (1.12.1)\n",
      "Requirement already satisfied: grpcio<2.0,>=1.24.3 in c:\\users\\mk_reuben\\anaconda3\\lib\\site-packages (from tensorflow-gpu==2.8.0) (1.43.0)\n",
      "Requirement already satisfied: keras-preprocessing>=1.1.1 in c:\\users\\mk_reuben\\anaconda3\\lib\\site-packages (from tensorflow-gpu==2.8.0) (1.1.2)\n",
      "Requirement already satisfied: libclang>=9.0.1 in c:\\users\\mk_reuben\\anaconda3\\lib\\site-packages (from tensorflow-gpu==2.8.0) (13.0.0)\n",
      "Requirement already satisfied: tf-estimator-nightly==2.8.0.dev2021122109 in c:\\users\\mk_reuben\\anaconda3\\lib\\site-packages (from tensorflow-gpu==2.8.0) (2.8.0.dev2021122109)\n",
      "Requirement already satisfied: typing-extensions>=3.6.6 in c:\\users\\mk_reuben\\anaconda3\\lib\\site-packages (from tensorflow-gpu==2.8.0) (3.10.0.2)\n",
      "Requirement already satisfied: wheel<1.0,>=0.23.0 in c:\\users\\mk_reuben\\anaconda3\\lib\\site-packages (from astunparse>=1.6.0->tensorflow-gpu==2.8.0) (0.37.0)\n",
      "Requirement already satisfied: google-auth<3,>=1.6.3 in c:\\users\\mk_reuben\\anaconda3\\lib\\site-packages (from tensorboard<2.9,>=2.8->tensorflow-gpu==2.8.0) (2.5.0)\n",
      "Requirement already satisfied: tensorboard-plugin-wit>=1.6.0 in c:\\users\\mk_reuben\\anaconda3\\lib\\site-packages (from tensorboard<2.9,>=2.8->tensorflow-gpu==2.8.0) (1.8.1)\n",
      "Requirement already satisfied: google-auth-oauthlib<0.5,>=0.4.1 in c:\\users\\mk_reuben\\anaconda3\\lib\\site-packages (from tensorboard<2.9,>=2.8->tensorflow-gpu==2.8.0) (0.4.6)\n",
      "Requirement already satisfied: requests<3,>=2.21.0 in c:\\users\\mk_reuben\\anaconda3\\lib\\site-packages (from tensorboard<2.9,>=2.8->tensorflow-gpu==2.8.0) (2.26.0)\n",
      "Requirement already satisfied: markdown>=2.6.8 in c:\\users\\mk_reuben\\anaconda3\\lib\\site-packages (from tensorboard<2.9,>=2.8->tensorflow-gpu==2.8.0) (3.3.6)\n",
      "Requirement already satisfied: werkzeug>=0.11.15 in c:\\users\\mk_reuben\\anaconda3\\lib\\site-packages (from tensorboard<2.9,>=2.8->tensorflow-gpu==2.8.0) (2.0.2)\n",
      "Requirement already satisfied: tensorboard-data-server<0.7.0,>=0.6.0 in c:\\users\\mk_reuben\\anaconda3\\lib\\site-packages (from tensorboard<2.9,>=2.8->tensorflow-gpu==2.8.0) (0.6.1)\n",
      "Requirement already satisfied: pyasn1-modules>=0.2.1 in c:\\users\\mk_reuben\\anaconda3\\lib\\site-packages (from google-auth<3,>=1.6.3->tensorboard<2.9,>=2.8->tensorflow-gpu==2.8.0) (0.2.8)\n",
      "Requirement already satisfied: rsa<5,>=3.1.4 in c:\\users\\mk_reuben\\anaconda3\\lib\\site-packages (from google-auth<3,>=1.6.3->tensorboard<2.9,>=2.8->tensorflow-gpu==2.8.0) (4.8)\n",
      "Requirement already satisfied: cachetools<6.0,>=2.0.0 in c:\\users\\mk_reuben\\anaconda3\\lib\\site-packages (from google-auth<3,>=1.6.3->tensorboard<2.9,>=2.8->tensorflow-gpu==2.8.0) (5.0.0)\n",
      "Requirement already satisfied: requests-oauthlib>=0.7.0 in c:\\users\\mk_reuben\\anaconda3\\lib\\site-packages (from google-auth-oauthlib<0.5,>=0.4.1->tensorboard<2.9,>=2.8->tensorflow-gpu==2.8.0) (1.3.0)\n",
      "Requirement already satisfied: importlib-metadata>=4.4 in c:\\users\\mk_reuben\\anaconda3\\lib\\site-packages (from markdown>=2.6.8->tensorboard<2.9,>=2.8->tensorflow-gpu==2.8.0) (4.8.1)\n",
      "Requirement already satisfied: certifi>=2017.4.17 in c:\\users\\mk_reuben\\anaconda3\\lib\\site-packages (from requests<3,>=2.21.0->tensorboard<2.9,>=2.8->tensorflow-gpu==2.8.0) (2021.10.8)\n",
      "Requirement already satisfied: charset-normalizer~=2.0.0 in c:\\users\\mk_reuben\\anaconda3\\lib\\site-packages (from requests<3,>=2.21.0->tensorboard<2.9,>=2.8->tensorflow-gpu==2.8.0) (2.0.4)\n",
      "Requirement already satisfied: idna<4,>=2.5 in c:\\users\\mk_reuben\\anaconda3\\lib\\site-packages (from requests<3,>=2.21.0->tensorboard<2.9,>=2.8->tensorflow-gpu==2.8.0) (3.2)\n",
      "Requirement already satisfied: urllib3<1.27,>=1.21.1 in c:\\users\\mk_reuben\\anaconda3\\lib\\site-packages (from requests<3,>=2.21.0->tensorboard<2.9,>=2.8->tensorflow-gpu==2.8.0) (1.26.7)\n",
      "Requirement already satisfied: zipp>=0.5 in c:\\users\\mk_reuben\\anaconda3\\lib\\site-packages (from importlib-metadata>=4.4->markdown>=2.6.8->tensorboard<2.9,>=2.8->tensorflow-gpu==2.8.0) (3.6.0)\n",
      "Requirement already satisfied: pyasn1<0.5.0,>=0.4.6 in c:\\users\\mk_reuben\\anaconda3\\lib\\site-packages (from pyasn1-modules>=0.2.1->google-auth<3,>=1.6.3->tensorboard<2.9,>=2.8->tensorflow-gpu==2.8.0) (0.4.8)\n",
      "Requirement already satisfied: oauthlib>=3.0.0 in c:\\users\\mk_reuben\\anaconda3\\lib\\site-packages (from requests-oauthlib>=0.7.0->google-auth-oauthlib<0.5,>=0.4.1->tensorboard<2.9,>=2.8->tensorflow-gpu==2.8.0) (3.1.1)\n"
     ]
    }
   ],
   "source": [
    "!pip install tensorflow-gpu==2.8.0"
   ]
  },
  {
   "cell_type": "code",
   "execution_count": 34,
   "id": "a3c78334",
   "metadata": {},
   "outputs": [],
   "source": [
    "import helper\n",
    "import numpy as np\n",
    "\n",
    "from keras.preprocessing.text import Tokenizer\n",
    "from keras.preprocessing.sequence import pad_sequences\n",
    "from keras.models import Model, Sequential\n",
    "from keras.layers import GRU, Input, Dense, TimeDistributed, Activation, RepeatVector, Bidirectional, Dropout, LSTM\n",
    "from keras.layers.embeddings import Embedding\n",
    "from tensorflow.keras.optimizers import Adam\n",
    "from keras.losses import sparse_categorical_crossentropy"
   ]
  },
  {
   "cell_type": "code",
   "execution_count": 35,
   "id": "31a722b0",
   "metadata": {},
   "outputs": [],
   "source": [
    "import tensorflow as tf"
   ]
  },
  {
   "cell_type": "code",
   "execution_count": 36,
   "id": "26328514",
   "metadata": {},
   "outputs": [],
   "source": [
    "english_path='https://raw.githubusercontent.com/projjal1/datasets/master/small_vocab_en.txt'\n",
    "french_path='https://raw.githubusercontent.com/projjal1/datasets/master/small_vocab_fr.txt'"
   ]
  },
  {
   "cell_type": "code",
   "execution_count": 37,
   "id": "0f0e58c9",
   "metadata": {},
   "outputs": [],
   "source": [
    "import os\n",
    "\n",
    "def load_data(path):\n",
    "  input_file = os.path.join(path)\n",
    "  with open(input_file, \"r\") as f:\n",
    "    data = f.read()\n",
    "\n",
    "  return data.split('\\n')"
   ]
  },
  {
   "cell_type": "code",
   "execution_count": 15,
   "id": "4c094a23",
   "metadata": {},
   "outputs": [
    {
     "name": "stdout",
     "output_type": "stream",
     "text": [
      "Downloading data from https://raw.githubusercontent.com/projjal1/datasets/master/small_vocab_en.txt\n",
      "9093120/9085266 [==============================] - 26s 3us/step\n",
      "9101312/9085266 [==============================] - 26s 3us/step\n",
      "Downloading data from https://raw.githubusercontent.com/projjal1/datasets/master/small_vocab_fr.txt\n",
      "10141696/10135741 [==============================] - 25s 2us/step\n",
      "10149888/10135741 [==============================] - 25s 2us/step\n"
     ]
    }
   ],
   "source": [
    "english_data=tf.keras.utils.get_file('file1',english_path)\n",
    "french_data=tf.keras.utils.get_file('file2',french_path)"
   ]
  },
  {
   "cell_type": "code",
   "execution_count": 16,
   "id": "6c614ec4",
   "metadata": {},
   "outputs": [],
   "source": [
    "english_sentences=load_data(english_data)\n",
    "french_sentences=load_data(french_data)"
   ]
  },
  {
   "cell_type": "code",
   "execution_count": 38,
   "id": "3d894eb1",
   "metadata": {},
   "outputs": [
    {
     "name": "stdout",
     "output_type": "stream",
     "text": [
      "Sample : 0\n",
      "new jersey is sometimes quiet during autumn , and it is snowy in april .\n",
      "new jersey est parfois calme pendant l' automne , et il est neigeux en avril .\n",
      "--------------------------------------------------\n",
      "Sample : 1\n",
      "the united states is usually chilly during july , and it is usually freezing in november .\n",
      "les Ã©tats-unis est gÃ©nÃ©ralement froid en juillet , et il gÃ¨le habituellement en novembre .\n",
      "--------------------------------------------------\n",
      "Sample : 2\n",
      "california is usually quiet during march , and it is usually hot in june .\n",
      "california est gÃ©nÃ©ralement calme en mars , et il est gÃ©nÃ©ralement chaud en juin .\n",
      "--------------------------------------------------\n",
      "Sample : 3\n",
      "the united states is sometimes mild during june , and it is cold in september .\n",
      "les Ã©tats-unis est parfois lÃ©gÃ¨re en juin , et il fait froid en septembre .\n",
      "--------------------------------------------------\n",
      "Sample : 4\n",
      "your least liked fruit is the grape , but my least liked is the apple .\n",
      "votre moins aimÃ© fruit est le raisin , mais mon moins aimÃ© est la pomme .\n",
      "--------------------------------------------------\n"
     ]
    }
   ],
   "source": [
    "for i in range(5):\n",
    "  print('Sample :',i)\n",
    "  print(english_sentences[i])\n",
    "  print(french_sentences[i])\n",
    "  print('-'*50)"
   ]
  },
  {
   "cell_type": "code",
   "execution_count": 18,
   "id": "c8a4e1aa",
   "metadata": {},
   "outputs": [],
   "source": [
    "import collections"
   ]
  },
  {
   "cell_type": "code",
   "execution_count": 19,
   "id": "a99060bb",
   "metadata": {},
   "outputs": [
    {
     "name": "stdout",
     "output_type": "stream",
     "text": [
      "English Vocab: 227\n",
      "French Vocab: 355\n"
     ]
    }
   ],
   "source": [
    "english_words_counter = collections.Counter([word for sentence in english_sentences for word in sentence.split()])\n",
    "french_words_counter = collections.Counter([word for sentence in french_sentences for word in sentence.split()])\n",
    "\n",
    "print('English Vocab:',len(english_words_counter))\n",
    "print('French Vocab:',len(french_words_counter))"
   ]
  },
  {
   "cell_type": "code",
   "execution_count": 39,
   "id": "ddc68e88",
   "metadata": {},
   "outputs": [],
   "source": [
    "def tokenize(x):\n",
    "  tokenizer = Tokenizer()\n",
    "  tokenizer.fit_on_texts(x)\n",
    "  return tokenizer.texts_to_sequences(x), tokenizer"
   ]
  },
  {
   "cell_type": "code",
   "execution_count": 40,
   "id": "b3106510",
   "metadata": {},
   "outputs": [],
   "source": [
    "def pad(x, length=None):\n",
    "  return pad_sequences(x, maxlen=length, padding='post')"
   ]
  },
  {
   "cell_type": "code",
   "execution_count": 23,
   "id": "af48fd3b",
   "metadata": {},
   "outputs": [
    {
     "name": "stdout",
     "output_type": "stream",
     "text": [
      "Data Preprocessed\n",
      "Max English sentence length: 15\n",
      "Max French sentence length: 21\n",
      "English vocabulary size: 199\n",
      "French vocabulary size: 345\n"
     ]
    }
   ],
   "source": [
    "def preprocess(x, y):\n",
    "    \"\"\"\n",
    "    Preprocess x and y\n",
    "    :param x: Feature List of sentences\n",
    "    :param y: Label List of sentences\n",
    "    :return: Tuple of (Preprocessed x, Preprocessed y, x tokenizer, y tokenizer)\n",
    "    \"\"\"\n",
    "    preprocess_x, x_tk = tokenize(x)\n",
    "    preprocess_y, y_tk = tokenize(y)\n",
    "\n",
    "    preprocess_x = pad(preprocess_x)\n",
    "    preprocess_y = pad(preprocess_y)\n",
    "\n",
    "    # Keras's sparse_categorical_crossentropy function requires the labels to be in 3 dimensions\n",
    "    #Expanding dimensions\n",
    "    preprocess_y = preprocess_y.reshape(*preprocess_y.shape, 1)\n",
    "\n",
    "    return preprocess_x, preprocess_y, x_tk, y_tk\n",
    "\n",
    "preproc_english_sentences, preproc_french_sentences, english_tokenizer, french_tokenizer =\\\n",
    "    preprocess(english_sentences, french_sentences)\n",
    "    \n",
    "max_english_sequence_length = preproc_english_sentences.shape[1]\n",
    "max_french_sequence_length = preproc_french_sentences.shape[1]\n",
    "english_vocab_size = len(english_tokenizer.word_index)\n",
    "french_vocab_size = len(french_tokenizer.word_index)\n",
    "\n",
    "print('Data Preprocessed')\n",
    "print(\"Max English sentence length:\", max_english_sequence_length)\n",
    "print(\"Max French sentence length:\", max_french_sequence_length)\n",
    "print(\"English vocabulary size:\", english_vocab_size)\n",
    "print(\"French vocabulary size:\", french_vocab_size)"
   ]
  },
  {
   "cell_type": "code",
   "execution_count": 41,
   "id": "0a141a52",
   "metadata": {},
   "outputs": [],
   "source": [
    "def logits_to_text(logits, tokenizer):\n",
    "  index_to_words = {id: word for word, id in tokenizer.word_index.items()}\n",
    "  index_to_words[0] = '<PAD>'\n",
    "\n",
    "  #So basically we are predicting output for a given word and then selecting best answer\n",
    "  #Then selecting that label we reverse-enumerate the word from id\n",
    "  return ' '.join([index_to_words[prediction] for prediction in np.argmax(logits, 1)])"
   ]
  },
  {
   "cell_type": "code",
   "execution_count": 25,
   "id": "32995978",
   "metadata": {},
   "outputs": [],
   "source": [
    "def embed_model(input_shape, output_sequence_length, english_vocab_size, french_vocab_size):\n",
    "   \n",
    "    # TODO: Implement\n",
    "\n",
    "    # Hyperparameters\n",
    "    learning_rate = 0.005\n",
    "    \n",
    "    # TODO: Build the layers\n",
    "    model = Sequential()\n",
    "    model.add(Embedding(english_vocab_size, 256, input_length=input_shape[1], input_shape=input_shape[1:]))\n",
    "    model.add(GRU(256, return_sequences=True))    \n",
    "    model.add(TimeDistributed(Dense(1024, activation='relu')))\n",
    "    model.add(Dropout(0.5))\n",
    "    model.add(TimeDistributed(Dense(french_vocab_size, activation='softmax'))) \n",
    "\n",
    "    # Compile model\n",
    "    model.compile(loss=sparse_categorical_crossentropy,\n",
    "                  optimizer=Adam(learning_rate),\n",
    "                  metrics=['accuracy'])\n",
    "    return model"
   ]
  },
  {
   "cell_type": "code",
   "execution_count": 42,
   "id": "6d5507d1",
   "metadata": {},
   "outputs": [],
   "source": [
    "tmp_x = pad(preproc_english_sentences, preproc_french_sentences.shape[1])\n",
    "tmp_x = tmp_x.reshape((-1, preproc_french_sentences.shape[-2]))"
   ]
  },
  {
   "cell_type": "code",
   "execution_count": 45,
   "id": "62531de7",
   "metadata": {},
   "outputs": [],
   "source": [
    "simple_rnn_model = embed_model(\n",
    "    tmp_x.shape,\n",
    "    preproc_french_sentences.shape[1],\n",
    "    len(english_tokenizer.word_index)+1,\n",
    "    len(french_tokenizer.word_index)+1)"
   ]
  },
  {
   "cell_type": "code",
   "execution_count": 48,
   "id": "fde94982",
   "metadata": {},
   "outputs": [
    {
     "name": "stdout",
     "output_type": "stream",
     "text": [
      "Model: \"sequential_3\"\n",
      "_________________________________________________________________\n",
      " Layer (type)                Output Shape              Param #   \n",
      "=================================================================\n",
      " embedding_3 (Embedding)     (None, 21, 256)           51200     \n",
      "                                                                 \n",
      " gru_3 (GRU)                 (None, 21, 256)           394752    \n",
      "                                                                 \n",
      " time_distributed_6 (TimeDis  (None, 21, 1024)         263168    \n",
      " tributed)                                                       \n",
      "                                                                 \n",
      " dropout_3 (Dropout)         (None, 21, 1024)          0         \n",
      "                                                                 \n",
      " time_distributed_7 (TimeDis  (None, 21, 346)          354650    \n",
      " tributed)                                                       \n",
      "                                                                 \n",
      "=================================================================\n",
      "Total params: 1,063,770\n",
      "Trainable params: 1,063,770\n",
      "Non-trainable params: 0\n",
      "_________________________________________________________________\n"
     ]
    }
   ],
   "source": [
    "simple_rnn_model.summary()"
   ]
  },
  {
   "cell_type": "code",
   "execution_count": null,
   "id": "9142e2f4",
   "metadata": {},
   "outputs": [
    {
     "name": "stdout",
     "output_type": "stream",
     "text": [
      "Epoch 1/20\n",
      "108/108 [==============================] - 453s 4s/step - loss: 1.2967 - accuracy: 0.6944 - val_loss: 0.4569 - val_accuracy: 0.8516\n",
      "Epoch 2/20\n",
      " 44/108 [===========>..................] - ETA: 4:40 - loss: 0.4338 - accuracy: 0.8590"
     ]
    }
   ],
   "source": [
    "history=simple_rnn_model.fit(tmp_x, preproc_french_sentences, batch_size=1024, epochs=20, validation_split=0.2)"
   ]
  },
  {
   "cell_type": "code",
   "execution_count": null,
   "id": "0ec07325",
   "metadata": {},
   "outputs": [],
   "source": [
    "simple_rnn_model.save('model.h5')"
   ]
  },
  {
   "cell_type": "code",
   "execution_count": null,
   "id": "6b5b4d8a",
   "metadata": {},
   "outputs": [],
   "source": [
    "def final_predictions(text):\n",
    "  y_id_to_word = {value: key for key, value in french_tokenizer.word_index.items()}\n",
    "  y_id_to_word[0] = '<PAD>'\n",
    "\n",
    "  sentence = [english_tokenizer.word_index[word] for word in text.split()]\n",
    "  sentence = pad_sequences([sentence], maxlen=preproc_french_sentences.shape[-2], padding='post')\n",
    "  \n",
    "  print(sentence.shape)\n",
    "  print(logits_to_text(simple_rnn_model.predict(sentence[:1])[0], french_tokenizer))"
   ]
  },
  {
   "cell_type": "code",
   "execution_count": null,
   "id": "31c351ee",
   "metadata": {},
   "outputs": [],
   "source": []
  },
  {
   "cell_type": "code",
   "execution_count": null,
   "id": "5caf60c2",
   "metadata": {},
   "outputs": [],
   "source": []
  },
  {
   "cell_type": "code",
   "execution_count": null,
   "id": "76f70a72",
   "metadata": {},
   "outputs": [],
   "source": []
  }
 ],
 "metadata": {
  "kernelspec": {
   "display_name": "Python 3 (ipykernel)",
   "language": "python",
   "name": "python3"
  },
  "language_info": {
   "codemirror_mode": {
    "name": "ipython",
    "version": 3
   },
   "file_extension": ".py",
   "mimetype": "text/x-python",
   "name": "python",
   "nbconvert_exporter": "python",
   "pygments_lexer": "ipython3",
   "version": "3.9.7"
  }
 },
 "nbformat": 4,
 "nbformat_minor": 5
}
